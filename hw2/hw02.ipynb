{
 "cells": [
  {
   "cell_type": "markdown",
   "metadata": {},
   "source": [
    "# CS 4100 Homework 02 \n",
    "\n",
    "#### Due Thursday  2/2 at midnight (1 minute after 11:59 pm) in Gradescope (with a grace period of 6 hours)\n",
    "#### You may submit the homework up to 24 hours late (with the same grace period) for a penalty of 10%. \n",
    "\n",
    "You must submit the homework in Gradescope as a zip file containing <b>two files:</b>\n",
    "- The <code>.ipynb</code> file (be sure to <code>Kernel -> Restart and Run All</code> before you submit); and\n",
    "- A <code>.pdf</code> file of the notebook. \n",
    "\n",
    "For best results obtaining a clean PDF file on the Mac, select <code>File -> Print Review</code> from the Jupyter window, then choose <code>File-> Print</code> in your browser and then <code>Save as PDF</code>.  Something  similar should be possible on a Windows machine. \n",
    "\n",
    "\n",
    " \n",
    "All homeworks will be scored with a maximum of 100 points; if point values are not given for individual\n",
    "problems, then all problems will be counted equally. \n",
    "\n",
    "Note: I have uploaded my solution for HW 01 on the class web page if you wish to use it; some of the code in HW 01 will be needed in this homework. "
   ]
  },
  {
   "cell_type": "code",
   "execution_count": null,
   "metadata": {},
   "outputs": [],
   "source": []
  },
  {
   "cell_type": "markdown",
   "metadata": {},
   "source": [
    "Here are some useful utility functions for examining the results of your code. "
   ]
  },
  {
   "cell_type": "code",
   "execution_count": 1,
   "metadata": {},
   "outputs": [
    {
     "name": "stdout",
     "output_type": "stream",
     "text": [
      "-B\n",
      "{ C, -B }\n",
      "[ { A }, { B, -A }, { C, -B, -A } ]\n",
      "[ { A }, {}, { -B } ]\n"
     ]
    }
   ],
   "source": [
    "# This will pretty-print literals, clauses, and clause lists.\n",
    "# It will print out propositional letters as A, B, C, ...\n",
    "    \n",
    "def literal2String(L):\n",
    "    return ('-' if (L<0) else '') + chr(ord('A')+abs(L)-1)\n",
    "\n",
    "def clause2String(C):\n",
    "    if(C=={}):\n",
    "        return '{}'\n",
    "    else:\n",
    "        return '{ '+(', '.join([literal2String(L) for L in C]))+' }'\n",
    "\n",
    "def clauseList2String(A):\n",
    "    return '[ '+(', '.join([clause2String(C) for C in A]))+' ]'\n",
    "\n",
    "def pprint(X):\n",
    "    if(type(X)==int):              # X is literal\n",
    "        print(literal2String(X))\n",
    "    elif(type(X)==set):            # X is a clause\n",
    "        print(clause2String(X))\n",
    "    elif(type(X)==list):           # X is a clause list\n",
    "        print(clauseList2String(X))\n",
    "    else:\n",
    "        print('Error in pprint!')\n",
    "\n",
    "        #test\n",
    "\n",
    "pprint(-2)\n",
    "pprint({3,-2})\n",
    "pprint([ {1},{-1,2}, {-2,-1,3} ])\n",
    "pprint([ {1}, {}, {-2} ])\n"
   ]
  },
  {
   "cell_type": "markdown",
   "metadata": {},
   "source": [
    "## Problem One: Resolution Theorem Proving in Propositional Logic (30 pts)\n",
    "\n",
    "In this problem we will explore the resolution calculus, using breadth-first search to find the empty clause (if it exists) in the resolvents generated from the input set. \n",
    "\n",
    "### Part A: Resolution Rule\n",
    "\n",
    "Complete the following template according to the definition of resolution given in your text and in lecture. "
   ]
  },
  {
   "cell_type": "code",
   "execution_count": 2,
   "metadata": {},
   "outputs": [
    {
     "name": "stdout",
     "output_type": "stream",
     "text": [
      "{ A } { -A }\n",
      "[ {  } ] \n",
      "\n",
      "{ A, B } { -C, -A }\n",
      "[ { B, -C } ] \n",
      "\n",
      "{} { A, -B }\n",
      "[  ] \n",
      "\n",
      "{ A, -C } { A, -B }\n",
      "[  ] \n",
      "\n",
      "{ A, B, C } { -C, -A, -B }\n",
      "[ { B, C, -C, -B }, { A, C, -C, -A }, { A, B, -A, -B } ] \n",
      "\n"
     ]
    }
   ],
   "source": [
    "# Return all possible resolvents of clauses C1 and C2 (sets)\n",
    "\n",
    "def resolve(C1,C2):\n",
    "    resolvents = []\n",
    "    for literal1 in C1:\n",
    "        for literal2 in C2:\n",
    "            if literal1 == -literal2:\n",
    "                resolvent = (C1 - {literal1}) | (C2 - {literal2})\n",
    "                if resolvent not in resolvents:\n",
    "                    resolvents.append(resolvent)\n",
    "    return resolvents\n",
    "                \n",
    " \n",
    "# Tests -- Note that your sets may occur in a different order than shown here\n",
    "\n",
    "C1 = {1}\n",
    "C2 = {-1}\n",
    "print(clause2String(C1),clause2String(C2))                      \n",
    "print(clauseList2String(resolve(C1,C2)),'\\n')   # should be [ {} ]\n",
    "\n",
    "C1 = {1,2}\n",
    "C2 = {-1,-3}\n",
    "print(clause2String(C1),clause2String(C2))                      \n",
    "print(clauseList2String(resolve(C1,C2)),'\\n')   # should be [ { B, -C } ]\n",
    "\n",
    "C1 = {}\n",
    "C2 = {1,-2}\n",
    "print(clause2String(C1),clause2String(C2))                      \n",
    "print(clauseList2String(resolve(C1,C2)),'\\n')   # should be [  ]\n",
    "\n",
    "C1 = {1,-3}\n",
    "C2 = {1,-2}\n",
    "print(clause2String(C1),clause2String(C2))                      \n",
    "print(clauseList2String(resolve(C1,C2)),'\\n')   # should be [  ]\n",
    "\n",
    "C1 = {1,2,3}\n",
    "C2 = {-1,-2,-3}\n",
    "print(clause2String(C1),clause2String(C2))                      \n",
    "print(clauseList2String(resolve(C1,C2)),'\\n')   # should be [ { B, C, -C, -B }, { A, C, -C, -A }, { A, B, -A, -B } ]"
   ]
  },
  {
   "cell_type": "markdown",
   "metadata": {},
   "source": [
    "### Part B: Resolution Rule Continued\n",
    "\n",
    "Complete the following template according to the definition of resolution given in your text and in lecture. "
   ]
  },
  {
   "cell_type": "code",
   "execution_count": 3,
   "metadata": {},
   "outputs": [
    {
     "name": "stdout",
     "output_type": "stream",
     "text": [
      "[ { C, -B, -A } ]\n",
      "{ -C }\n",
      "[ { -B, -A } ]\n",
      "\n",
      "[ { A }, {}, { -C, -B, -A } ]\n",
      "{ -C }\n",
      "[  ]\n",
      "\n",
      "[  ]\n",
      "{ -C }\n",
      "[  ]\n",
      "\n",
      "[ { A }, { B, -A }, { C, -B, -A } ]\n",
      "{ A, -C }\n",
      "[ { B, -C }, { A, -B, -A }, { C, -C, -B } ]\n"
     ]
    }
   ],
   "source": [
    "# A is a list of clauses, C is a clause\n",
    "# Return list of all possible resolvents of C with a clause in A\n",
    "\n",
    "def resolveAll(A,C):   \n",
    "    resolvents = []\n",
    "    for clause in A:\n",
    "        new_resolvents = resolve(clause, C)\n",
    "        resolvents.extend(new_resolvents)\n",
    "    return resolvents\n",
    "\n",
    "# tests\n",
    "\n",
    "KB = [ {-2,-1,3} ]\n",
    "NQ = {-3}\n",
    "\n",
    "pprint(KB)\n",
    "pprint(NQ)\n",
    "pprint(resolveAll(KB,NQ))     # should be [ { -B, -A } ]\n",
    "print()\n",
    "\n",
    "KB = [ {1}, {}, {-2,-1,-3} ]\n",
    "NQ = {-3}\n",
    "\n",
    "pprint(KB)\n",
    "pprint(NQ)\n",
    "pprint(resolveAll(KB,NQ))     # should be [  ]\n",
    "print()\n",
    "\n",
    "KB = [ ]\n",
    "NQ = {-3}\n",
    "\n",
    "pprint(KB)\n",
    "pprint(NQ)\n",
    "pprint(resolveAll(KB,NQ))     # should be [  ]\n",
    "print()\n",
    "\n",
    "KB = [ {1}, {-1,2}, {-2,-1,3} ]\n",
    "NQ = {-3,1}\n",
    "\n",
    "pprint(KB)\n",
    "pprint(NQ)\n",
    "pprint(resolveAll(KB,NQ))     # should be [ { B, -C }, { A, -B, -A }, { C, -C, -B } ]"
   ]
  },
  {
   "cell_type": "markdown",
   "metadata": {},
   "source": [
    "### Part C:  Breadth-first Prover\n",
    "\n",
    "Write a function `prove1` which takes a set `CL`\n",
    "and searches for the empty clause by inserting all members of CL into a queue, and generating\n",
    "resolvents from the clause popped off the front of the queue with any member of the rest of queue, \n",
    "and adding them to the back of the queue. It should behave as shown below:\n",
    "\n",
    "- If the empty clause is found, report \"Unsatisfiable\";\n",
    "- If the queue empties out, report \"Satisfiable\"; \n",
    "- If the prover can not find the empty clause after 'limit' steps, report that fact. \n",
    "\n",
    "In each case, you should also report the number of steps (= times you popped the front off the queue);\n",
    "\n",
    "If the parameter `trace` is true, you should print out the queue at each step. "
   ]
  },
  {
   "cell_type": "code",
   "execution_count": 4,
   "metadata": {},
   "outputs": [],
   "source": [
    "# perform breath-first search from a set of clauses CL, by\n",
    "# inserting all of CL into a queue\n",
    "# and then searching using BFS by generating resolvents of head of queue with any\n",
    "# clause in the queue\n",
    "\n",
    "def prove1(CL, limit=30, trace=True):\n",
    "    queue = CL\n",
    "    visited = set()\n",
    "    steps = 0\n",
    "    while queue and steps < limit:\n",
    "        steps += 1\n",
    "        current = queue.pop(0)\n",
    "        if trace:\n",
    "            print(f\"Step {steps}: {current}\")\n",
    "        for resolvent in resolveAll(queue, current):\n",
    "            if len(resolvent) == 0:\n",
    "                print(f\"Unsatisfiable. Number of steps: {steps}\")\n",
    "                return\n",
    "            elif frozenset(resolvent) not in visited:\n",
    "                queue.append(resolvent)\n",
    "                visited.update(frozenset(resolvent))\n",
    "    if steps == limit:\n",
    "        print(f\"Not proven after {limit} steps.\")\n",
    "    else:\n",
    "        print(f\"Satisfiable. Number of steps: {steps}\")\n",
    "  "
   ]
  },
  {
   "cell_type": "code",
   "execution_count": 5,
   "metadata": {},
   "outputs": [
    {
     "name": "stdout",
     "output_type": "stream",
     "text": [
      "\n",
      "test a \n",
      "------\n",
      "CL1a: [ { B }, { -B } ]\n",
      "\n",
      "Step 1: {2}\n",
      "Unsatisfiable. Number of steps: 1\n",
      "\n",
      "test b \n",
      "------\n",
      "CL1b: [ { A }, { B, -A }, { C, -B }, { D, -C }, { -D } ]\n",
      "\n",
      "Step 1: {1}\n",
      "Step 2: {2, -1}\n",
      "Step 3: {3, -2}\n",
      "Step 4: {4, -3}\n",
      "Step 5: {-4}\n",
      "Unsatisfiable. Number of steps: 5\n",
      "\n",
      "test c \n",
      "------\n",
      "CL1c: [ { A }, { B, C, -A }, { D, -C }, { E, -C }, { -E }, { -B } ]\n",
      "\n",
      "Step 1: {1}\n",
      "Step 2: {2, 3, -1}\n",
      "Step 3: {4, -3}\n",
      "Step 4: {5, -3}\n",
      "Step 5: {-5}\n",
      "Step 6: {-2}\n",
      "Unsatisfiable. Number of steps: 6\n",
      "\n",
      "test d \n",
      "------\n",
      "CL1d: [ { A }, { B, C, -A }, { D, -C }, { E, -C }, { -E } ]\n",
      "\n",
      "Step 1: {1}\n",
      "Step 2: {2, 3, -1}\n",
      "Step 3: {4, -3}\n",
      "Step 4: {5, -3}\n",
      "Step 5: {-5}\n",
      "Step 6: {2, 3}\n",
      "Step 7: {2, 4, -1}\n",
      "Step 8: {2, 5, -1}\n",
      "Step 9: {2, 4}\n",
      "Step 10: {-3}\n",
      "Step 11: {2, 5}\n",
      "Step 12: {2, -1}\n",
      "Step 13: {2}\n",
      "Step 14: {2}\n",
      "Satisfiable. Number of steps: 14\n",
      "\n"
     ]
    }
   ],
   "source": [
    "# tests: first 3 are unsatisfiable, test 4 is satisfiable\n",
    "\n",
    "print('\\ntest a','\\n------')\n",
    "CL1a = [ {2}, {-2} ]     \n",
    "\n",
    "print('CL1a: ',end=''); pprint(CL1a); print()\n",
    "prove1(CL1a); print()\n",
    "\n",
    "print('test b','\\n------')\n",
    "CL1b = [ {1}, {-1,2}, {-2,3}, {-3,4}, {-4} ]\n",
    "\n",
    "print('CL1b: ',end=''); pprint(CL1b); print()\n",
    "prove1(CL1b); print()\n",
    "\n",
    "print('test c','\\n------')\n",
    "CL1c = [ {1}, {-1,2,3}, {-3,4}, {-3,5}, {-5}, {-2} ]\n",
    "\n",
    "print('CL1c: ',end=''); pprint(CL1c); print()\n",
    "prove1(CL1c); print()\n",
    "\n",
    "print('test d','\\n------')\n",
    "CL1d = [ {1}, {-1,2,3}, {-3,4}, {-3,5}, {-5} ]\n",
    "\n",
    "print('CL1d: ',end=''); pprint(CL1d); print()\n",
    "prove1(CL1d); print()\n"
   ]
  },
  {
   "cell_type": "markdown",
   "metadata": {},
   "source": [
    "## Problem Two (10 pts)\n",
    "\n",
    "In this problem, we will experiment with our prover to understand its behavior. \n",
    "\n",
    "### Part A\n",
    "\n",
    "Generate a list of clauses `CL2a` such that\n",
    "\n",
    "-  CL2a is satisfiable, but \n",
    "-  It will make the prover run forever (in this case, not terminating with \"Satisfiable!\" within 30 steps)\n",
    "\n",
    "You must \n",
    "\n",
    "- Pretty-print CL2a\n",
    "- Prove that it is satisfiable (using your code from HW 01), \n",
    "- Show that it fails to terminate after 30 steps, and\n",
    "- Explain why your example behaves in this way. \n",
    "\n",
    "Note: Your example should be such that no matter how large `limit` is, it will not terminate; however,\n",
    "for purposes of grading, you should leave `limit=30` but `trace=False`.  \n",
    "\n",
    "Hint: See if you can get the prover to loop uselessly on the same clauses. It may help to\n",
    "think about the order in which clauses will be processed. "
   ]
  },
  {
   "cell_type": "code",
   "execution_count": 6,
   "metadata": {},
   "outputs": [],
   "source": [
    "from itertools import product\n",
    "\n",
    "def evalLiteral(I,L):\n",
    "    return I[abs(L)-1] if L > 0 else not I[abs(L)-1]\n",
    "\n",
    "# C represents a clause as an array\n",
    "def evalClause(I,C):\n",
    "    satisfied = False\n",
    "    for literal in C:\n",
    "        satisfied = evalLiteral(I, literal) or satisfied\n",
    "        if satisfied:\n",
    "            break\n",
    "    return satisfied\n",
    "\n",
    "# A is the CNF as a 2D array\n",
    "def evalCNF(A):\n",
    "    isValid = True;\n",
    "    isSatisfiable = False;\n",
    "    \n",
    "    literalSet = set()\n",
    "    for clause in A:\n",
    "        for literal in clause:\n",
    "            literalSet.add(abs(literal))\n",
    "    literalTable = list(product([True, False], repeat=len(literalSet)))\n",
    "\n",
    "    for I in literalTable:\n",
    "        clauseEval = True\n",
    "        for clause in A:\n",
    "            clauseEval = evalClause(I, clause) and clauseEval\n",
    "\n",
    "        isValid = clauseEval and isValid\n",
    "        isSatisfiable = clauseEval or isSatisfiable\n",
    "    \n",
    "    if isValid:\n",
    "        print(\"Valid\")\n",
    "    elif isSatisfiable:\n",
    "        print(\"Satisfiable\")\n",
    "    else:\n",
    "        print(\"Unsatisfiable\")"
   ]
  },
  {
   "cell_type": "code",
   "execution_count": 7,
   "metadata": {
    "scrolled": true
   },
   "outputs": [
    {
     "name": "stdout",
     "output_type": "stream",
     "text": [
      "CL2a: [ { A, -B }, { B, -A }, { -A, -B } ]\n",
      "\n",
      "Satisfiable\n",
      "Not proven after 30 steps.\n",
      "\n"
     ]
    }
   ],
   "source": [
    "CL2a = [{1, -2}, {2, -1}, {-1, -2}]\n",
    "print('CL2a: ',end=''); pprint(CL2a); print()\n",
    "evalCNF(CL2a)\n",
    "prove1(CL2a, 30, False); print()\n",
    "\n",
    "# The way these clauses are set up cause the prover to loop infinitely through different variations of the clauses given.\n",
    "# After step 31 the program will loop infinitely on {-1}, never to complete without the limit.\n",
    "# The first 31 steps loop through resolvents of {-2, -1}, {-1}, {-2}, {2, -1}, {2, -2}, {1, -1}, {1, -2}"
   ]
  },
  {
   "cell_type": "markdown",
   "metadata": {},
   "source": [
    "### Part B  \n",
    "\n",
    "In this problem we will explore what happens when the clause set causes an exponential explosion \n",
    "in the search space. We will use a classic example of a clause set which requires exponential time (assuming\n",
    "$P\\ne NP$). \n",
    "\n",
    "First create a clause list `CL2b` from only 2 symbols which is unsatisfiable but causes\n",
    "exponential behavior. The easiest way to do this is to create a clause set with 4 clauses, each of\n",
    "which makes one row of the truth table for two symbols (say A and B) false. For example,\n",
    "for a row that has **(True,False)**, you would create $\\{ \\neg A, B \\} = \\neg A\\vee B.$ If you\n",
    "make sure that no row of the truth table is a model, then it must be unsatisfiable, but\n",
    "each clause is necessary to prove this fact (if you leave a clause out, then that row\n",
    "of the table would be a model). \n",
    "\n",
    "It should take 7 steps to determine unsatisfiability. \n",
    "\n",
    "As in Part A, \n",
    "\n",
    "- Pretty-print CL2b\n",
    "- Verify that it is unsatisfiable using code from HW 01\n",
    "- Show that it takes 7 steps to find the empty clause. \n"
   ]
  },
  {
   "cell_type": "code",
   "execution_count": 8,
   "metadata": {},
   "outputs": [
    {
     "name": "stdout",
     "output_type": "stream",
     "text": [
      "CL2b: [ { -A, -B }, { B, -A }, { A, -B }, { A, B } ]\n",
      "\n",
      "Unsatisfiable\n",
      "Unsatisfiable. Number of steps: 5\n",
      "\n"
     ]
    }
   ],
   "source": [
    "CL2b = [{-1, -2}, {-1, 2}, {1, -2}, {1, 2}]\n",
    "print('CL2b: ',end=''); pprint(CL2b); print()\n",
    "evalCNF(CL2b)\n",
    "prove1(CL2b, 30, False); print()"
   ]
  },
  {
   "cell_type": "markdown",
   "metadata": {},
   "source": [
    "### Part C\n",
    "\n",
    "Now, create a clause list `CL2d`from 3 symbols, with 8 clauses, along the same lines as the previous example (each\n",
    "clause makes one line of the truth table false).  \n",
    "\n",
    " \n",
    "\n",
    "To do:\n",
    "\n",
    "- Pretty-print CL2d\n",
    "- Prove that it is unsatisfiable as above\n",
    "- Run this with a limit of 3, 4, and 5 to get a sense for what this will do. Then turn off tracing and try it for a few more (very soon it will simply get lost in an exponential explosion).\n",
    "- Answer this question: How large could you make limit and still get \"Empty clause not found after ...\" to print out within say a minute?"
   ]
  },
  {
   "cell_type": "code",
   "execution_count": 9,
   "metadata": {
    "scrolled": true
   },
   "outputs": [
    {
     "name": "stdout",
     "output_type": "stream",
     "text": [
      "CL2d: [ { -C, -A, -B }, { C, -A, -B }, { B, -C, -A }, { B, C, -A }, { A, -C, -B }, { A, C, -B }, { A, B, -C }, { A, B, C } ]\n",
      "\n",
      "Unsatisfiable\n",
      "\n",
      "Not proven after 15 steps.\n",
      "\n"
     ]
    }
   ],
   "source": [
    "CL2d = [{-1, -2, -3}, {-1, -2, 3}, {-1, 2, -3}, {-1, 2, 3}, {1, -2, -3}, {1, -2, 3}, {1, 2, -3}, {1, 2, 3}]\n",
    "print('CL2d: ',end=''); pprint(CL2d); print()\n",
    "evalCNF(CL2d); print()\n",
    "# prove1(CL2d, 3, True); print()\n",
    "# prove1(CL2d, 4, True); print()\n",
    "# prove1(CL2d, 5, True); print()\n",
    "\n",
    "prove1(CL2d, 15, False); print()\n",
    "# prove1(CL2d, 20, False); print()\n",
    "\n",
    "# Anything past 15 seems to crash my computer when run in jupyter notebooks.\n",
    "# When running the code just straight up in a python file, a limit of 20 finishes around the one minute mark"
   ]
  },
  {
   "cell_type": "markdown",
   "metadata": {},
   "source": [
    " "
   ]
  },
  {
   "cell_type": "markdown",
   "metadata": {},
   "source": [
    "## Refinements of Resolution\n",
    "\n",
    "There are various ways to make resolution more efficient, including\n",
    "\n",
    "- Set of Support Strategy: partition your clause set into subsets KB and SOS, such that KB is satisfiable, but KB + SOS is unsatisfiable; \n",
    "- Removing useless clauses such as tautologies and duplicates\n",
    "- Shortest-Clauses-First: use a priority queue instead of a queue, and keep it ordered by size, with\n",
    "smaller clauses to the front.\n",
    "\n",
    "The motivation for all of these is to prevent doing useless work, and--in the case of the shortest-first--to try to focus on creating short clauses as soon as possible. \n"
   ]
  },
  {
   "cell_type": "markdown",
   "metadata": {},
   "source": [
    "## Problem 3 (Set of Support) (10 pts)\n",
    "\n",
    "\n",
    "### Part A \n",
    "\n",
    "Rewrite your prover to create a function `prove3` which uses the set of support strategy, \n",
    "where the set of unsatisfiable clauses is separated into KB and SOS, in such a way that KB is\n",
    "known to be satisfiable. \n",
    "\n",
    "- Your prover will take KB and SOS as separate arguments;\n",
    "- Create your initial queue from SOS alone;\n",
    "- In each step, remove the head of the queue, and form resolvents between that clause\n",
    "and any clause in KB + Queue. \n",
    "\n",
    "Rewrite the tests from Problem One, Part A, such that the *last* clause in each list is removed\n",
    "and put in the SOS. The first one is done for you to show what is needed. \n",
    "\n",
    "Run your prover on these four examples to verify that all is working as expected. "
   ]
  },
  {
   "cell_type": "code",
   "execution_count": 10,
   "metadata": {},
   "outputs": [],
   "source": [
    "def prove3(KB, SOS, limit=30, trace=True):\n",
    "    queue = SOS\n",
    "    visited = set()\n",
    "    steps = 0\n",
    "    while queue and steps < limit:\n",
    "        steps += 1\n",
    "        current = queue.pop(0)\n",
    "        if trace:\n",
    "            print(f\"Step {steps}: {current}\")\n",
    "        \n",
    "        if not current:\n",
    "            print(f\"Unsatisfiable. Number of steps: {steps}\")\n",
    "            return\n",
    "        \n",
    "        for resolvent in resolveAll(KB + queue, current):\n",
    "            if len(resolvent) == 0:\n",
    "                print(f\"Unsatisfiable. Number of steps: {steps}\")\n",
    "                return\n",
    "            elif frozenset(resolvent) not in visited:\n",
    "                queue.append(resolvent)\n",
    "                visited.update(frozenset(resolvent))\n",
    "\n",
    "    if steps == limit:\n",
    "        print(f\"Not proven after {limit} steps.\")\n",
    "    else:\n",
    "        print(f\"Satisfiable. Number of steps: {steps}\")"
   ]
  },
  {
   "cell_type": "code",
   "execution_count": 11,
   "metadata": {},
   "outputs": [
    {
     "name": "stdout",
     "output_type": "stream",
     "text": [
      "\n",
      "test a \n",
      "------\n",
      "KB3a1: [ { B } ]\n",
      "SOS3a1: [ { -B } ]\n",
      "\n",
      "Step 1: {-2}\n",
      "Unsatisfiable. Number of steps: 1\n",
      "\n",
      "test b \n",
      "------\n",
      "KB3a2: [ { A }, { B, -A }, { C, -B }, { D, -C } ]\n",
      "SOS3a2: [ { -D } ]\n",
      "\n",
      "Step 1: {-4}\n",
      "Step 2: {-3}\n",
      "Step 3: {-2}\n",
      "Step 4: {-1}\n",
      "Unsatisfiable. Number of steps: 4\n",
      "\n",
      "test c \n",
      "------\n",
      "KB3a3: [ { A }, { B, C, -A }, { D, -C }, { E, -C }, { -E } ]\n",
      "SOS3a3: [ { -B } ]\n",
      "\n",
      "Step 1: {-2}\n",
      "Step 2: {3, -1}\n",
      "Step 3: {3}\n",
      "Step 4: {4, -1}\n",
      "Step 5: {5, -1}\n",
      "Step 6: {4}\n",
      "Step 7: {5}\n",
      "Unsatisfiable. Number of steps: 7\n",
      "\n",
      "test d \n",
      "------\n",
      "KB3a4: [ { A }, { B, C, -A }, { D, -C }, { E, -C } ]\n",
      "SOS3a4: [ { -E } ]\n",
      "\n",
      "Step 1: {-5}\n",
      "Step 2: {-3}\n",
      "Step 3: {2, -1}\n",
      "Step 4: {2}\n",
      "Satisfiable. Number of steps: 4\n",
      "\n"
     ]
    }
   ],
   "source": [
    "print('\\ntest a','\\n------')\n",
    "KB3a1 = [ {2} ]\n",
    "SOS3a1 = [ {-2} ]\n",
    "\n",
    "print('KB3a1: ',end=''); pprint(KB3a1); \n",
    "print('SOS3a1: ',end=''); pprint(SOS3a1); print()\n",
    "prove3(KB3a1,SOS3a1); print()\n",
    "\n",
    "print('test b','\\n------')\n",
    "KB3a2 = [ {1}, {-1,2}, {-2,3}, {-3,4} ]\n",
    "SOS3a2 = [ {-4} ]\n",
    "\n",
    "print('KB3a2: ',end=''); pprint(KB3a2);\n",
    "print('SOS3a2: ',end=''); pprint(SOS3a2); print()\n",
    "prove3(KB3a2,SOS3a2); print()\n",
    "\n",
    "print('test c','\\n------')\n",
    "KB3a3 = [ {1}, {-1,2,3}, {-3,4}, {-3,5}, {-5} ]\n",
    "SOS3a3 = [ {-2} ]\n",
    "\n",
    "print('KB3a3: ',end=''); pprint(KB3a3);\n",
    "print('SOS3a3: ',end=''); pprint(SOS3a3); print()\n",
    "prove3(KB3a3,SOS3a3); print()\n",
    "\n",
    "print('test d','\\n------')\n",
    "KB3a4 = [ {1}, {-1,2,3}, {-3,4}, {-3,5} ]\n",
    "SOS3a4 = [ {-5} ]\n",
    "\n",
    "print('KB3a4: ',end=''); pprint(KB3a4);\n",
    "print('SOS3a4: ',end=''); pprint(SOS3a4); print()\n",
    "prove3(KB3a4,SOS3a4); print()"
   ]
  },
  {
   "cell_type": "markdown",
   "metadata": {},
   "source": [
    "### Part B\n",
    "\n",
    "Now take the same clause set as in Problem Two Part B, but move the last clause into the SOS and keep the other three in KB. Run this example with prove3. \n"
   ]
  },
  {
   "cell_type": "code",
   "execution_count": 12,
   "metadata": {},
   "outputs": [
    {
     "name": "stdout",
     "output_type": "stream",
     "text": [
      "KB3b1: [ { -A, -B }, { B, -A }, { A, -B } ]\n",
      "SOS3b1: [ { A, B } ]\n",
      "\n",
      "Step 1: {1, 2}\n",
      "Step 2: {2, -2}\n",
      "Step 3: {1, -1}\n",
      "Step 4: {2}\n",
      "Step 5: {1}\n",
      "Unsatisfiable. Number of steps: 5\n",
      "\n"
     ]
    }
   ],
   "source": [
    "KB3b1 = [{-1, -2}, {-1, 2}, {1, -2}]\n",
    "SOS3b1 = [{1, 2}]\n",
    "\n",
    "print('KB3b1: ',end=''); pprint(KB3b1);\n",
    "print('SOS3b1: ',end=''); pprint(SOS3b1); print()\n",
    "prove3(KB3b1,SOS3b1); print()"
   ]
  },
  {
   "cell_type": "markdown",
   "metadata": {},
   "source": [
    "### Part C\n",
    "\n",
    "Now take the same clause set as in Problem Two Part C, but put the last clause in the SOS and the other 7 in KB.\n",
    "Experiment in the same way you did in Problem Two Part C. "
   ]
  },
  {
   "cell_type": "code",
   "execution_count": 13,
   "metadata": {
    "scrolled": true
   },
   "outputs": [
    {
     "name": "stdout",
     "output_type": "stream",
     "text": [
      "KB3c1: [ { -C, -A, -B }, { C, -A, -B }, { B, -C, -A }, { B, C, -A }, { A, -C, -B }, { A, C, -B }, { A, B, -C } ]\n",
      "SOS3c1: [ { A, B, C } ]\n",
      "\n",
      "Not proven after 15 steps.\n",
      "\n"
     ]
    }
   ],
   "source": [
    "KB3c1 = [{-1, -2, -3}, {-1, -2, 3}, {-1, 2, -3}, {-1, 2, 3}, {1, -2, -3}, {1, -2, 3}, {1, 2, -3}]\n",
    "SOS3c1 = [{1, 2, 3}]\n",
    "\n",
    "print('KB3c1: ',end=''); pprint(KB3c1);\n",
    "print('SOS3c1: ',end=''); pprint(SOS3c1); print()\n",
    "\n",
    "# prove3(KB3c1, SOS3c1, 3, True); print()\n",
    "# prove3(KB3c1, SOS3c1, 4, True);prove3(CL2d, 4, True); print()\n",
    "# prove3(KB3c1, SOS3c1, 5, True); print()\n",
    "\n",
    "prove3(KB3c1, SOS3c1, 15, False); print()\n",
    "\n",
    "# Anything past 15 seems to essentially run forever in jupyter notebooks. Although it isn't crashing my computer anymore.\n",
    "# 15 runs close to a minute"
   ]
  },
  {
   "cell_type": "markdown",
   "metadata": {},
   "source": [
    "### Part D\n",
    "\n",
    "Provide a brief statement of what you observed using the set of support strategy. Explain why you think this behavior is happening.  "
   ]
  },
  {
   "cell_type": "markdown",
   "metadata": {},
   "source": [
    "From what I can tell the new prover seems to be working more efficiently than prove1(), this is because the new prover more efficiently splits up the clause and then finds/filters through the resolvents quicker."
   ]
  },
  {
   "cell_type": "markdown",
   "metadata": {},
   "source": [
    "## Problem 4 (Removing Useless Clauses) (10 pts)\n",
    "\n",
    "Keeping the set of support strategy, in this problem you must rewrite your prover from Problem 3 as `prove4`, which\n",
    "checks clauses as they are generated by resolution, and does NOT put them in the queue\n",
    "if\n",
    "\n",
    "- They are tautologies (some symbol and its negation both appear in the clause);\n",
    "- They have already been generated before.\n",
    "\n",
    "For the second, you must create a set `Visited` which is a set (hash table) containing\n",
    "copies of all clauses generated at any time in the past; in order to create a set of\n",
    "sets, you will need to make copies of the clauses as `frozenset`s. Here is a brief\n",
    "example of how to do that:"
   ]
  },
  {
   "cell_type": "code",
   "execution_count": 14,
   "metadata": {},
   "outputs": [
    {
     "name": "stdout",
     "output_type": "stream",
     "text": [
      "{frozenset({1, 2})}\n",
      "True\n"
     ]
    }
   ],
   "source": [
    "S = set()\n",
    "A = {1,2}\n",
    "\n",
    "S.add( frozenset(A) )\n",
    "print(S)\n",
    "print( A in S)"
   ]
  },
  {
   "cell_type": "markdown",
   "metadata": {},
   "source": [
    "### Part A\n",
    "\n",
    "Write `prove4` as specified; you probably want to create a separate function `isTautology(C)`. \n",
    "Test it on examples as in Problem 3, Part A, just to verify you have done it correctly. "
   ]
  },
  {
   "cell_type": "code",
   "execution_count": 15,
   "metadata": {},
   "outputs": [],
   "source": [
    "def prove4(KB, SOS, limit=30, trace=True):\n",
    "    queue = SOS\n",
    "    visited = set()\n",
    "    steps = 0\n",
    "    while queue and steps < limit:\n",
    "        steps += 1\n",
    "        current = queue.pop(0)\n",
    "        if trace:\n",
    "            print(f\"Step {steps}: {current}\")\n",
    "        \n",
    "        if not current:\n",
    "            print(f\"Unsatisfiable. Number of steps: {steps}\")\n",
    "            return\n",
    "    \n",
    "        if isTautology(current):\n",
    "            continue\n",
    "        \n",
    "        for resolvent in resolveAll(KB + queue, current):\n",
    "            if len(resolvent) == 0:\n",
    "                print(f\"Unsatisfiable. Number of steps: {steps}\")\n",
    "                return\n",
    "            elif frozenset(resolvent) not in visited:\n",
    "                if not isTautology(resolvent):\n",
    "                    queue.append(resolvent)\n",
    "                visited.update(frozenset(resolvent))\n",
    "\n",
    "    if steps == limit:\n",
    "        print(f\"Not proven after {limit} steps.\")\n",
    "    else:\n",
    "        print(f\"Satisfiable. Number of steps: {steps}\")\n",
    "        \n",
    "def isTautology(C):\n",
    "    for literal1 in C:\n",
    "        if -literal1 in C:\n",
    "            return True\n",
    "    return False"
   ]
  },
  {
   "cell_type": "code",
   "execution_count": 16,
   "metadata": {},
   "outputs": [
    {
     "name": "stdout",
     "output_type": "stream",
     "text": [
      "\n",
      "test a \n",
      "------\n",
      "KB3a1: [ { B } ]\n",
      "SOS3a1: [ { -B } ]\n",
      "\n",
      "Step 1: {-2}\n",
      "Unsatisfiable. Number of steps: 1\n",
      "\n",
      "test b \n",
      "------\n",
      "KB3a2: [ { A }, { B, -A }, { C, -B }, { D, -C } ]\n",
      "SOS3a2: [ { -D } ]\n",
      "\n",
      "Step 1: {-4}\n",
      "Step 2: {-3}\n",
      "Step 3: {-2}\n",
      "Step 4: {-1}\n",
      "Unsatisfiable. Number of steps: 4\n",
      "\n",
      "test c \n",
      "------\n",
      "KB3a3: [ { A }, { B, C, -A }, { D, -C }, { E, -C }, { -E } ]\n",
      "SOS3a3: [ { -B } ]\n",
      "\n",
      "Step 1: {-2}\n",
      "Step 2: {3, -1}\n",
      "Step 3: {3}\n",
      "Step 4: {4, -1}\n",
      "Step 5: {5, -1}\n",
      "Step 6: {4}\n",
      "Step 7: {5}\n",
      "Unsatisfiable. Number of steps: 7\n",
      "\n",
      "test d \n",
      "------\n",
      "KB3a4: [ { A }, { B, C, -A }, { D, -C }, { E, -C } ]\n",
      "SOS3a4: [ { -E } ]\n",
      "\n",
      "Step 1: {-5}\n",
      "Step 2: {-3}\n",
      "Step 3: {2, -1}\n",
      "Step 4: {2}\n",
      "Satisfiable. Number of steps: 4\n",
      "\n"
     ]
    }
   ],
   "source": [
    "print('\\ntest a','\\n------')\n",
    "KB3a1 = [ {2} ]\n",
    "SOS3a1 = [ {-2} ]\n",
    "\n",
    "print('KB3a1: ',end=''); pprint(KB3a1); \n",
    "print('SOS3a1: ',end=''); pprint(SOS3a1); print()\n",
    "prove4(KB3a1,SOS3a1); print()\n",
    "\n",
    "print('test b','\\n------')\n",
    "KB3a2 = [ {1}, {-1,2}, {-2,3}, {-3,4} ]\n",
    "SOS3a2 = [ {-4} ]\n",
    "\n",
    "print('KB3a2: ',end=''); pprint(KB3a2);\n",
    "print('SOS3a2: ',end=''); pprint(SOS3a2); print()\n",
    "prove4(KB3a2,SOS3a2); print()\n",
    "\n",
    "print('test c','\\n------')\n",
    "KB3a3 = [ {1}, {-1,2,3}, {-3,4}, {-3,5}, {-5} ]\n",
    "SOS3a3 = [ {-2} ]\n",
    "\n",
    "print('KB3a3: ',end=''); pprint(KB3a3);\n",
    "print('SOS3a3: ',end=''); pprint(SOS3a3); print()\n",
    "prove4(KB3a3,SOS3a3); print()\n",
    "\n",
    "print('test d','\\n------')\n",
    "KB3a4 = [ {1}, {-1,2,3}, {-3,4}, {-3,5} ]\n",
    "SOS3a4 = [ {-5} ]\n",
    "\n",
    "print('KB3a4: ',end=''); pprint(KB3a4);\n",
    "print('SOS3a4: ',end=''); pprint(SOS3a4); print()\n",
    "prove4(KB3a4,SOS3a4); print()"
   ]
  },
  {
   "cell_type": "markdown",
   "metadata": {},
   "source": [
    "### Part B\n",
    "\n",
    "Now test it on the example from Problem Three, Part B. "
   ]
  },
  {
   "cell_type": "code",
   "execution_count": 17,
   "metadata": {
    "scrolled": false
   },
   "outputs": [
    {
     "name": "stdout",
     "output_type": "stream",
     "text": [
      "KB4b1: [ { -A, -B }, { B, -A }, { A, -B } ]\n",
      "SOS4b1: [ { A, B } ]\n",
      "\n",
      "Step 1: {1, 2}\n",
      "Step 2: {2}\n",
      "Step 3: {1}\n",
      "Unsatisfiable. Number of steps: 3\n",
      "\n"
     ]
    }
   ],
   "source": [
    "KB4b1 = [{-1, -2}, {-1, 2}, {1, -2}]\n",
    "SOS4b1 = [{1, 2}]\n",
    "\n",
    "print('KB4b1: ',end=''); pprint(KB4b1);\n",
    "print('SOS4b1: ',end=''); pprint(SOS4b1); print()\n",
    "prove4(KB4b1,SOS4b1); print()"
   ]
  },
  {
   "cell_type": "markdown",
   "metadata": {},
   "source": [
    "### Part C\n",
    "\n",
    "Now test it on the example from Problem Three, Part C, and experiment with it as\n",
    "before to see how far you can search in about one minute. "
   ]
  },
  {
   "cell_type": "code",
   "execution_count": 18,
   "metadata": {},
   "outputs": [
    {
     "name": "stdout",
     "output_type": "stream",
     "text": [
      "KB4c1: [ { -C, -A, -B }, { C, -A, -B }, { B, -C, -A }, { B, C, -A }, { A, -C, -B }, { A, C, -B }, { A, B, -C } ]\n",
      "SOS4c1: [ { A, B, C } ]\n",
      "\n",
      "Not proven after 19 steps.\n",
      "\n"
     ]
    }
   ],
   "source": [
    "KB4c1 = [{-1, -2, -3}, {-1, -2, 3}, {-1, 2, -3}, {-1, 2, 3}, {1, -2, -3}, {1, -2, 3}, {1, 2, -3}]\n",
    "SOS4c1 = [{1, 2, 3}]\n",
    "\n",
    "print('KB4c1: ',end=''); pprint(KB4c1);\n",
    "print('SOS4c1: ',end=''); pprint(SOS4c1); print()\n",
    "\n",
    "prove4(KB4c1, SOS4c1, 19, False); print()\n",
    "\n",
    "# Right around 20 is the limit where jupyter notebooks will run forever, 19 runs in under a minute"
   ]
  },
  {
   "cell_type": "markdown",
   "metadata": {},
   "source": [
    "### Part D\n",
    "\n",
    "Summarize what you observed. Does this strategy make a significant difference?\n",
    "\n",
    "(If you have an interest, you might try this on a similar example with 4 symbols....)"
   ]
  },
  {
   "cell_type": "markdown",
   "metadata": {},
   "source": [
    "- This strategy is so far definitly the fastest, I believe it may be bottlenecked by jupyter notebooks, yet is still clearly faster than the other provers. This prover is quicker because 1. it removes taotology's(which appear often and is a major efficiency improver) and 2. remembers previous resolvents in the queue(which has been implemented in previous versions as well)"
   ]
  },
  {
   "cell_type": "markdown",
   "metadata": {},
   "source": [
    "## Problem Five (Shortest-Clauses-First) (10 pts)\n",
    "\n",
    "Now you should take your latest `prove4` and add one more refinement:  make your queue\n",
    "a priority queue ordered by size, with smaller clauses to the front.\n",
    "\n",
    "The easiest way to do this (certainly not the most efficient) is to simply sort the queue every time\n",
    "you add something to the end. You can sort a list of sets/lists using as key the size of the member\n",
    "set/list, as illustrated here:"
   ]
  },
  {
   "cell_type": "code",
   "execution_count": 19,
   "metadata": {},
   "outputs": [
    {
     "data": {
      "text/plain": [
       "[{2, 3, 4}, {1, 2}, {3, 4}, {1}, {3}]"
      ]
     },
     "execution_count": 19,
     "metadata": {},
     "output_type": "execute_result"
    }
   ],
   "source": [
    "A = [ {1,2}, {2,3,4}, {1}, {3}, {3,4}]\n",
    "\n",
    "A.sort(reverse=True, key=(lambda x: len(x)))            # sorts in place\n",
    "\n",
    "A"
   ]
  },
  {
   "cell_type": "markdown",
   "metadata": {},
   "source": [
    "### Part A\n",
    "\n",
    "Rewrite `prove4` as `prove5` with a priority queue instead of a queue, as suggested, and test it\n",
    "on the same simple examples as in Part A of the previous two problems, to verify that it works as expected. "
   ]
  },
  {
   "cell_type": "code",
   "execution_count": 20,
   "metadata": {},
   "outputs": [],
   "source": [
    "def prove5(KB, SOS, limit=30, trace=True):\n",
    "    queue = SOS\n",
    "    visited = set()\n",
    "    steps = 0\n",
    "    while queue and steps < limit:\n",
    "        steps += 1\n",
    "        current = queue.pop(0)\n",
    "        if trace:\n",
    "            print(f\"Step {steps}: {current}\")\n",
    "        \n",
    "        if not current:\n",
    "            print(f\"Unsatisfiable. Number of steps: {steps}\")\n",
    "            return\n",
    "    \n",
    "        if isTautology(current):\n",
    "            continue\n",
    "        \n",
    "        for resolvent in resolveAll(KB + queue, current):\n",
    "            if len(resolvent) == 0:\n",
    "                print(f\"Unsatisfiable. Number of steps: {steps}\")\n",
    "                return\n",
    "            elif frozenset(resolvent) not in visited:\n",
    "                if not isTautology(resolvent):\n",
    "                    queue.append(resolvent)\n",
    "                    queue.sort(reverse=True, key=(lambda x: len(x)))\n",
    "                visited.update(frozenset(resolvent))\n",
    "\n",
    "    if steps == limit:\n",
    "        print(f\"Not proven after {limit} steps.\")\n",
    "    else:\n",
    "        print(f\"Satisfiable. Number of steps: {steps}\")\n",
    "        \n",
    "def isTautology(C):\n",
    "    for literal1 in C:\n",
    "        if -literal1 in C:\n",
    "            return True\n",
    "    return False"
   ]
  },
  {
   "cell_type": "code",
   "execution_count": 21,
   "metadata": {},
   "outputs": [
    {
     "name": "stdout",
     "output_type": "stream",
     "text": [
      "\n",
      "test a \n",
      "------\n",
      "KB3a1: [ { B } ]\n",
      "SOS3a1: [ { -B } ]\n",
      "\n",
      "Step 1: {-2}\n",
      "Unsatisfiable. Number of steps: 1\n",
      "\n",
      "test b \n",
      "------\n",
      "KB3a2: [ { A }, { B, -A }, { C, -B }, { D, -C } ]\n",
      "SOS3a2: [ { -D } ]\n",
      "\n",
      "Step 1: {-4}\n",
      "Step 2: {-3}\n",
      "Step 3: {-2}\n",
      "Step 4: {-1}\n",
      "Unsatisfiable. Number of steps: 4\n",
      "\n",
      "test c \n",
      "------\n",
      "KB3a3: [ { A }, { B, C, -A }, { D, -C }, { E, -C }, { -E } ]\n",
      "SOS3a3: [ { -B } ]\n",
      "\n",
      "Step 1: {-2}\n",
      "Step 2: {3, -1}\n",
      "Step 3: {4, -1}\n",
      "Step 4: {5, -1}\n",
      "Step 5: {3}\n",
      "Step 6: {4}\n",
      "Step 7: {5}\n",
      "Unsatisfiable. Number of steps: 7\n",
      "\n",
      "test d \n",
      "------\n",
      "KB3a4: [ { A }, { B, C, -A }, { D, -C }, { E, -C } ]\n",
      "SOS3a4: [ { -E } ]\n",
      "\n",
      "Step 1: {-5}\n",
      "Step 2: {-3}\n",
      "Step 3: {2, -1}\n",
      "Step 4: {2}\n",
      "Satisfiable. Number of steps: 4\n",
      "\n"
     ]
    }
   ],
   "source": [
    "print('\\ntest a','\\n------')\n",
    "KB3a1 = [ {2} ]\n",
    "SOS3a1 = [ {-2} ]\n",
    "\n",
    "print('KB3a1: ',end=''); pprint(KB3a1); \n",
    "print('SOS3a1: ',end=''); pprint(SOS3a1); print()\n",
    "prove5(KB3a1,SOS3a1); print()\n",
    "\n",
    "print('test b','\\n------')\n",
    "KB3a2 = [ {1}, {-1,2}, {-2,3}, {-3,4} ]\n",
    "SOS3a2 = [ {-4} ]\n",
    "\n",
    "print('KB3a2: ',end=''); pprint(KB3a2);\n",
    "print('SOS3a2: ',end=''); pprint(SOS3a2); print()\n",
    "prove5(KB3a2,SOS3a2); print()\n",
    "\n",
    "print('test c','\\n------')\n",
    "KB3a3 = [ {1}, {-1,2,3}, {-3,4}, {-3,5}, {-5} ]\n",
    "SOS3a3 = [ {-2} ]\n",
    "\n",
    "print('KB3a3: ',end=''); pprint(KB3a3);\n",
    "print('SOS3a3: ',end=''); pprint(SOS3a3); print()\n",
    "prove5(KB3a3,SOS3a3); print()\n",
    "\n",
    "print('test d','\\n------')\n",
    "KB3a4 = [ {1}, {-1,2,3}, {-3,4}, {-3,5} ]\n",
    "SOS3a4 = [ {-5} ]\n",
    "\n",
    "print('KB3a4: ',end=''); pprint(KB3a4);\n",
    "print('SOS3a4: ',end=''); pprint(SOS3a4); print()\n",
    "prove5(KB3a4,SOS3a4); print()"
   ]
  },
  {
   "cell_type": "markdown",
   "metadata": {},
   "source": [
    "### Part B\n",
    "Again, test your new prover on the example from Part B of the previous two problems. "
   ]
  },
  {
   "cell_type": "code",
   "execution_count": 22,
   "metadata": {},
   "outputs": [
    {
     "name": "stdout",
     "output_type": "stream",
     "text": [
      "KB4b1: [ { -A, -B }, { B, -A }, { A, -B } ]\n",
      "SOS4b1: [ { A, B } ]\n",
      "\n",
      "Step 1: {1, 2}\n",
      "Step 2: {2}\n",
      "Step 3: {1}\n",
      "Unsatisfiable. Number of steps: 3\n",
      "\n"
     ]
    }
   ],
   "source": [
    "KB4b1 = [{-1, -2}, {-1, 2}, {1, -2}]\n",
    "SOS4b1 = [{1, 2}]\n",
    "\n",
    "print('KB4b1: ',end=''); pprint(KB4b1);\n",
    "print('SOS4b1: ',end=''); pprint(SOS4b1); print()\n",
    "prove5(KB4b1,SOS4b1); print()"
   ]
  },
  {
   "cell_type": "markdown",
   "metadata": {},
   "source": [
    "### Part C\n",
    "Again, test your new prover on the example from Part C of the previous two problems. "
   ]
  },
  {
   "cell_type": "code",
   "execution_count": 23,
   "metadata": {},
   "outputs": [
    {
     "name": "stdout",
     "output_type": "stream",
     "text": [
      "KB4c1: [ { -C, -A, -B }, { C, -A, -B }, { B, -C, -A }, { B, C, -A }, { A, -C, -B }, { A, C, -B }, { A, B, -C } ]\n",
      "SOS4c1: [ { A, B, C } ]\n",
      "\n",
      "Not proven after 30 steps.\n",
      "\n"
     ]
    }
   ],
   "source": [
    "KB4c1 = [{-1, -2, -3}, {-1, -2, 3}, {-1, 2, -3}, {-1, 2, 3}, {1, -2, -3}, {1, -2, 3}, {1, 2, -3}]\n",
    "SOS4c1 = [{1, 2, 3}]\n",
    "\n",
    "print('KB4c1: ',end=''); pprint(KB4c1);\n",
    "print('SOS4c1: ',end=''); pprint(SOS4c1); print()\n",
    "\n",
    "prove5(KB4c1, SOS4c1, 30, False); print()\n",
    "\n",
    "# Right around 35 is the limit where jupyter notebooks will run forever, 30 will run in a little bit under a minute/"
   ]
  },
  {
   "cell_type": "markdown",
   "metadata": {},
   "source": [
    "### Part D\n",
    "\n",
    "What did you observe?  Did this make a significant difference in the amount of time it took to complete\n",
    "the proof?  \n",
    "\n",
    "Finally, do you think these refinements would reduce the exponential search space for such\n",
    "problems to polynomial size, or\n",
    "is exponential growth still a problem? (Hint: think about what you learned in your algorithms or\n",
    "complexity class about the Satisfiability Problem.)\n",
    "\n",
    "- Sorting(I believe) has made the biggest difference yet between provers. With this prover being able to run up to limit=30 without too much issue. Elimanting the smallest clauses first is clearly efficient for this problem.\n",
    "- While I'm not sure, I think the search space would decrease to polynomial size. Between remembering visited resolvents, filtering out tautologies, and sorting, the prover does need to search through nearly as many options as before, resulting in a smaller search space."
   ]
  },
  {
   "cell_type": "markdown",
   "metadata": {},
   "source": [
    "## Problem Six (10 pts)\n",
    "\n",
    "In this problem, we will use the fastest method, `prove5`, to solve some word problems which can\n",
    "be encoded as problems in propositional logic. For each, give the encoding of the statements\n",
    "in the problem as symbols. (You might want to review pp.32-33 in the textbook before starting.)"
   ]
  },
  {
   "cell_type": "markdown",
   "metadata": {},
   "source": [
    "### Part A\n",
    "\n",
    "$$ (Accomplice \\implies Car) \\land ((\\neg Accomplice \\land \\neg Keys) \\lor (Accomplice \\land Keys)) \\land Keys $$  \n",
    "Accomplice = A, Car = B, Keys = C  \n",
    "Conversion to CNF:\n",
    "\n",
    "$$\\begin{aligned}\n",
    "        (\\neg A \\lor C) \\land ( ((\\neg A \\land \\neg K) \\lor A) \\land ((\\neg A \\land \\neg K) \\lor K)) \\land K  \\\\\n",
    "        (\\neg A \\lor C) \\land ( ((\\neg A \\lor A) \\land (A \\lor \\neg K)) \\land ((\\neg A \\lor K) \\land (K \\lor \\neg K))) \\land K  \\\\\n",
    "        (\\neg A \\lor C) \\land (A \\lor \\neg K) \\land (\\neg A \\lor K) \\land K \\\\\n",
    "  \\end{aligned}$$\n",
    "\n",
    "Trying to prove C...\n",
    "$$\\begin{aligned}\n",
    "        (\\neg A \\lor C) \\land (A \\lor \\neg K) \\land (\\neg A \\lor K) \\land K \\land \\neg C \\\\\n",
    "  \\end{aligned}$$\n",
    "  \n",
    "Resolution Proof:\n",
    "$$\\begin{aligned}\n",
    "        Res(2, 4) = A_6 \\\\\n",
    "        Res(1, 6) = C_7 \\\\\n",
    "        Res(5, 7) = ()_8 \\\\\n",
    "  \\end{aligned}$$"
   ]
  },
  {
   "cell_type": "code",
   "execution_count": 24,
   "metadata": {},
   "outputs": [
    {
     "name": "stdout",
     "output_type": "stream",
     "text": [
      "Step 1: {-1}\n",
      "Step 2: {-3}\n",
      "Unsatisfiable. Number of steps: 2\n"
     ]
    }
   ],
   "source": [
    "# A = 1, C = 2, K = 3\n",
    "KB = [{-1, 2}, {1, -3}, {-1, 3}, {3}]\n",
    "SOS = [{-1}]\n",
    "prove5(KB, SOS)"
   ]
  },
  {
   "cell_type": "markdown",
   "metadata": {},
   "source": [
    "### Part B\n",
    "\n",
    "A man and a woman are talking. “I am a\n",
    "man” said the person with black hair. “I am a woman” said the person with white hair.\n",
    "At least one of them is lying.  Formalize the puzzle using propositional logic and show using resolution that both of them are lying.\n",
    "\n",
    "<!-- Attempt one lol -->\n",
    "<!-- Man = M, Woman = F, Black hair = B, White hair = W\n",
    "(White hair implies female) and (Black hair implies male) and (at least one is lying)\n",
    "$$\\begin{aligned}\n",
    "        (W \\implies F) \\land (B \\implies M) \\land ((\\neg W \\implies \\neg F) \\lor (\\neg B \\implies \\neg M)) \\\\\n",
    "        (\\neg W \\lor F) \\land (\\neg B \\lor M) \\land ((W \\lor \\neg F) \\lor (B \\lor \\neg M)) \\\\\n",
    "        (\\neg W \\lor F) \\land (\\neg B \\lor M) \\land (W \\lor \\neg F \\lor B \\lor \\neg M)\n",
    "  \\end{aligned}$$\n",
    " \n",
    "Trying to Prove both are lying:\n",
    "$$\\begin{aligned}\n",
    "    \\neg ((\\neg W \\implies \\neg F) \\land (\\neg B \\implies \\neg M)) \\\\\n",
    "    \\neg((W \\lor \\neg F) \\land (B \\lor \\neg M)) \\\\\n",
    "    (\\neg (W \\lor \\neg F) \\lor \\neg(B \\lor \\neg M)) \\\\\n",
    "    (\\neg W \\land F) \\lor (\\neg B \\land M) \\\\\n",
    "    ((\\neg W \\land F) \\lor \\neg B) \\land ((\\neg W \\land F) \\lor M) \\\\\n",
    "    (\\neg B \\lor \\neg W) \\land (\\neg B \\lor F) \\land (M \\lor \\neg W) \\land (M \\lor F)\n",
    "\\end{aligned}$$\n",
    "\n",
    "CNF: $$ (\\neg W \\lor F) \\land (\\neg B \\lor M) \\land (W \\lor \\neg F \\lor B \\lor \\neg M) \\land (W \\lor \\neg F) \\land (B \\lor \\neg M)  $$ -->"
   ]
  },
  {
   "cell_type": "markdown",
   "metadata": {},
   "source": [
    "WT = white hair tells truth  \n",
    "WM = white hair is male  \n",
    "BT = black hair tells truth  \n",
    "BM = black hair is male  \n",
    "\n",
    "= (black hair telling truth implies their male) & (white hair telling truth implies their not male) & (at least one is lying) & (if white hair is male, black hair is not male, or vice versa)\n",
    "\n",
    "$$\\begin{aligned}\n",
    "    \\equiv (BT \\implies BM) \\land (WT \\implies \\neg WM) \\land (\\neg WT \\lor \\neg BT) \\land ((WM \\land \\neg BM) \\lor (\\neg WM \\land BM)) \\\\\n",
    "    \\equiv (\\neg BT \\lor BM) \\land (\\neg WT \\lor \\neg WM) \\land (\\neg WT \\lor \\neg BT) \\land (\\neg WM \\lor \\neg BM) \\land (WM \\lor BM)\n",
    "\\end{aligned}$$\n",
    "\n",
    "Trying to prove both are lying...  \n",
    "$$\\begin{aligned}\n",
    "    \\equiv (\\neg BT \\lor BM) \\land (\\neg WT \\lor \\neg WM) \\land (\\neg WT \\lor \\neg BT) \\land (\\neg WM \\lor \\neg BM) \\land (WM \\lor BM) \\land \\neg(\\neg WT \\land \\neg BT) \\\\\n",
    "    \\equiv (\\neg BT \\lor BM) \\land (\\neg WT \\lor \\neg WM) \\land (\\neg WT \\lor \\neg BT) \\land (\\neg WM \\lor \\neg BM) \\land (WM \\lor BM) \\land WT \\land BT \\\\\n",
    "\\end{aligned}$$"
   ]
  },
  {
   "cell_type": "markdown",
   "metadata": {},
   "source": [
    "Resolution Proof:\n",
    "$$\\begin{aligned}\n",
    "        Res(3, 6) = (\\neg BT)_8 \\\\\n",
    "        Res(7, 8) = ()_9\n",
    "  \\end{aligned}$$"
   ]
  },
  {
   "cell_type": "code",
   "execution_count": 25,
   "metadata": {},
   "outputs": [
    {
     "name": "stdout",
     "output_type": "stream",
     "text": [
      "Step 1: {3}\n",
      "Step 2: {1}\n",
      "Unsatisfiable. Number of steps: 2\n"
     ]
    }
   ],
   "source": [
    "KB = [{-1, 2}, {-3, -4}, {-1, -3}, {2, 4}, {-2, -4}]\n",
    "SOS = [{3}, {1}]\n",
    "prove5(KB, SOS)"
   ]
  },
  {
   "cell_type": "markdown",
   "metadata": {},
   "source": [
    "### Part C\n",
    "\n",
    "Three boxes are presented to you. One contains gold, the other two are empty.\n",
    "Each box has imprinted on it a clue as to its contents; the clues are:\n",
    "\n",
    "- Box 1 “The gold is not here”\n",
    "- Box 2 “The gold is not here”\n",
    "- Box 3 “The gold is in Box 2”\n",
    "\n",
    "Only one message is true; the other two are false. Which box has the gold?\n",
    "\n",
    "Formalize the puzzle using propositional logic and find the solution using resolution.   \n",
    "    \n",
    "B1 = Gold in box one, B2 = Gold in box two, B3 = Gold in box three  \n",
    "One box contains gold...\n",
    "$$\\begin{aligned}\n",
    "   \\equiv (B1 \\land \\neg B2 \\land \\neg B3) \\lor (\\neg B1 \\land B2 \\land \\neg B3) \\lor (\\neg B1 \\land \\neg B2 \\land B3) \\\\\n",
    "   \\equiv (\\neg B1 \\lor \\neg B2) \\land (\\neg B1 \\lor \\neg B3) \\land (\\neg B2 \\lor \\neg B3) \\land (B1 \\lor B2 \\lor B3)\n",
    "\\end{aligned}$$\n",
    "\n",
    "One message true, the others false...\n",
    "$$\\begin{aligned}\n",
    "   \\equiv (\\neg B1 \\land B2 \\land \\neg B2) \\lor (B1 \\land \\neg B2 \\land \\neg B2) \\lor (B1 \\land B2 \\land B2) \\\\\n",
    "   \\equiv F \\lor (B1 \\land \\neg B2) \\lor (B1 \\land B2) \\\\\n",
    "   \\equiv (B1 \\land \\neg B2) \\lor (B1 \\land B2) \\\\\n",
    "   \\equiv B1\n",
    "\\end{aligned}$$\n",
    "\n",
    "Proof:\n",
    "$$\\begin{aligned}\n",
    "   \\equiv (\\neg B1 \\lor \\neg B2) \\land (\\neg B1 \\lor \\neg B3) \\land (\\neg B2 \\lor \\neg B3) \\land (B1 \\lor B2 \\lor B3) \\land \\neg B1\n",
    "\\end{aligned}$$"
   ]
  },
  {
   "cell_type": "markdown",
   "metadata": {},
   "source": [
    "Resolution Proof:\n",
    "$$\\begin{aligned}\n",
    "        Res(4, 5) = (B2 \\lor B3)_6 \\\\\n",
    "        Res(3, 7) = ()_7\n",
    "  \\end{aligned}$$\n",
    "\n",
    "Box 3 has the gold?"
   ]
  },
  {
   "cell_type": "code",
   "execution_count": 26,
   "metadata": {},
   "outputs": [
    {
     "name": "stdout",
     "output_type": "stream",
     "text": [
      "Step 1: {-1}\n",
      "Step 2: {-3, -2}\n",
      "Step 3: {2, -3}\n",
      "Step 4: {-3, -1}\n",
      "Step 5: {1, -3}\n",
      "Step 6: {1, -3}\n",
      "Step 7: {-3, -2}\n",
      "Step 8: {2, -3}\n",
      "Step 9: {2, -3}\n",
      "Step 10: {2, -3}\n",
      "Step 11: {-3, -1}\n",
      "Step 12: {1, -3}\n",
      "Step 13: {1, -3}\n",
      "Step 14: {1, -3}\n",
      "Step 15: {1, -3}\n",
      "Step 16: {-3, -2}\n",
      "Step 17: {2, -3}\n",
      "Step 18: {2, -3}\n",
      "Step 19: {2, -3}\n",
      "Step 20: {2, -3}\n",
      "Step 21: {2, -3}\n",
      "Step 22: {-3, -1}\n",
      "Step 23: {1, -3}\n",
      "Step 24: {1, -3}\n",
      "Step 25: {1, -3}\n",
      "Step 26: {1, -3}\n",
      "Step 27: {1, -3}\n",
      "Step 28: {1, -3}\n",
      "Step 29: {-3, -2}\n",
      "Step 30: {2, -3}\n",
      "Not proven after 30 steps.\n"
     ]
    }
   ],
   "source": [
    "# M = 1, F = 2, B = 3, W = 4\n",
    "KB = [{1, -2, -3}, {-1, 2, -3}, {1, 2, -3}]\n",
    "# SOS = [{-3, -4}, {-3, 2}, {1, -4}, {1, 2}]\n",
    "SOS = [{-1}]\n",
    "prove5(KB, SOS)"
   ]
  },
  {
   "cell_type": "markdown",
   "metadata": {},
   "source": [
    "## Problem Seven (First-Order Logic) (5 pts)\n",
    "\n",
    "Do problem 3.1 from your textbook. You may provide your solution using ASCII text; by hand-writing, scanning, and pasting; or (preferably) in Latex.  \n",
    "**a.** $$ \\forall x male(x) \\iff \\neg female(x) $$\n",
    "**b.** $$ \\forall x \\forall y \\exists z father(x) \\iff male(x) \\land child(x, y, z) $$\n",
    "**c.** $$ \\forall x \\forall y siblings(x,y) \\iff (\\exists z father(z,x) \\land father(z,y)) \\lor (\\exists z mother(z, x) \\land mother(z, y)) $$\n",
    "**d.** $$ \\forall x \\forall y \\forall z parents(x, y, z) \\iff father(x, z) \\land mother(y, z) $$\n",
    "**e.** $$ \\forall x \\forall y uncle(x, y) \\iff \\exists z \\exists u child(y, z, u) \\land siblings(z, x) \\land male(x) $$\n",
    "**f.** $$ \\forall x \\forall y ancestor(x, y) \\iff \\exists z child(y, x, z) \\lor \\exists u \\exists v child(u,x,v) \\land ancestor(u,y) $$"
   ]
  },
  {
   "cell_type": "markdown",
   "metadata": {},
   "source": [
    "## Problem Eight (First-Order Logic)  (5 pts)\n",
    "\n",
    "Do problem 3.2 from your textbook. You may provide your solution using ASCII text; by hand-writing, scanning, and pasting; or (preferably) in Latex.  \n",
    "**a.** $$ \\forall x \\exists y \\exists z father(y, x) \\land mother(z, x) $$\n",
    "**b.** $$ \\exists x \\exists y child(y, x, z) $$\n",
    "**c.** $$ \\forall x bird(x) \\iff flies(x) $$\n",
    "**d.** $$ \\exists x \\exists y \\exists z animal(x) \\land animal(y) \\land eats(x, y) \\land eats(y, z) \\land grain(z) $$\n",
    "**e.** $$ \\forall x animals(x) \\iff \\exists y (eats(x,y) \\land (plant(y) \\lor (animal(y) \\land \\exists z plant(z) \\land eats(y,z) \\land smaller(y, x)))) $$"
   ]
  },
  {
   "cell_type": "markdown",
   "metadata": {},
   "source": [
    "## Problem Nine (First-Order Logic)  (5 pts)\n",
    "\n",
    "Do problem 3.4 from your textbook. You may provide your solution using ASCII text; by hand-writing, scanning, and pasting; or (preferably) in Latex.  \n",
    "**1.**$$ \\forall x \\forall y $$ $$ x < y \\lor x = y \\lor x > y $$\n",
    "**2.**$$ \\forall x \\forall y $$ $$ x < y \\implies \\neg y < x $$\n",
    "**3.**$$ \\forall x \\forall y \\forall z $$ $$ (y < z \\implies x < z) \\land x < y $$"
   ]
  },
  {
   "cell_type": "markdown",
   "metadata": {},
   "source": [
    "## Problem Ten (First-Order Logic)  (5 pts)\n",
    "\n",
    "Do problem 3.5 from your textbook. You may provide your solution using ASCII text; by hand-writing, scanning, and pasting; or (preferably) in Latex.  \n",
    "**a.**\n",
    "MGU: $$x/(fz), u/f(y)$$  \n",
    "Term: $$p(f(z), f(y))$$\n",
    "\n",
    "**b.** not unifiable\n",
    "\n",
    "**c.**  \n",
    "MGU: $$ x/cos(y), z/4 - (7 * cos(y)) $$  \n",
    "Term: $$ cos(y) = 4 - (7*cos(y)) $$\n",
    "\n",
    "**d.** not unifiable\n",
    "\n",
    "**e.**  \n",
    "MGU: \n",
    "$$ x/g(w,w), \\\\ y/g(g(w,w), g(w,w)), \\\\ z/g(g(g(w,w), g(w,w)), g(g(w,w), g(w,w))) $$\n",
    "$$ u/f(g(w,w),g(g(w,w), g(w,w)), g(g(g(w,w), g(w,w)), g(g(w,w),g(w,w)))) $$\n",
    "Term: \n",
    "$$ p(f(g(w,w),g(g(w,w), g(w,w)), g(g(g(w,w), g(w,w)), g(g(w,w),g(w,w)))), \\\\ f(g(w,w),g(g(w,w), g(w,w)), g(g(g(w,w), g(w,w)), g(g(w,w),g(w,w)))))$$\n"
   ]
  }
 ],
 "metadata": {
  "kernelspec": {
   "display_name": "Python 3 (ipykernel)",
   "language": "python",
   "name": "python3"
  },
  "language_info": {
   "codemirror_mode": {
    "name": "ipython",
    "version": 3
   },
   "file_extension": ".py",
   "mimetype": "text/x-python",
   "name": "python",
   "nbconvert_exporter": "python",
   "pygments_lexer": "ipython3",
   "version": "3.10.5"
  }
 },
 "nbformat": 4,
 "nbformat_minor": 2
}
